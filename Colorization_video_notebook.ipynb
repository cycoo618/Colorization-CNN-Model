{
 "cells": [
  {
   "cell_type": "markdown",
   "metadata": {},
   "source": [
    "## 0. Load Packages"
   ]
  },
  {
   "cell_type": "code",
   "execution_count": 1,
   "metadata": {},
   "outputs": [
    {
     "name": "stderr",
     "output_type": "stream",
     "text": [
      "Using TensorFlow backend.\n"
     ]
    }
   ],
   "source": [
    "from skimage.color import rgb2lab, lab2rgb, rgb2gray, xyz2lab\n",
    "from skimage.io import imsave\n",
    "import numpy as np\n",
    "from skimage import io,color\n",
    "import matplotlib.pyplot as plt\n",
    "from os import walk\n",
    "import os\n",
    "from os.path import isfile, join\n",
    "import imutils\n",
    "import cv2\n",
    "from keras.models import model_from_json\n",
    "from keras.preprocessing.image import ImageDataGenerator, array_to_img, img_to_array, load_img"
   ]
  },
  {
   "cell_type": "markdown",
   "metadata": {},
   "source": [
    "## 1. Model"
   ]
  },
  {
   "cell_type": "markdown",
   "metadata": {},
   "source": [
    "### 1.1 Define Paths"
   ]
  },
  {
   "cell_type": "code",
   "execution_count": 2,
   "metadata": {},
   "outputs": [],
   "source": [
    "path=\"images/60-80\"\n",
    "test_path=path+\"/test/\"\n",
    "model_path=path+\"/predict/\""
   ]
  },
  {
   "cell_type": "markdown",
   "metadata": {},
   "source": [
    "### 1.2 Some Functions"
   ]
  },
  {
   "cell_type": "markdown",
   "metadata": {},
   "source": [
    "#### a. Image Functions"
   ]
  },
  {
   "cell_type": "code",
   "execution_count": 3,
   "metadata": {},
   "outputs": [],
   "source": [
    "#Convert RGB images to LAB using CIELAB, then return input X (L), target Y (A. B)\n",
    "def rgbtolab_batch(path):\n",
    "    X=[]\n",
    "    Y=[]\n",
    "    j=1\n",
    "    image = []\n",
    "    files = [f for f in os.listdir(path) if isfile(join(path, f))]\n",
    "    #for sorting the file names properly\n",
    "    files.sort(key = lambda x: int(x[5:-4]))\n",
    "    for i in range(len(files)):\n",
    "        filename=path + files[i]\n",
    "        image = img_to_array(load_img(filename))\n",
    "        image = np.array(image, dtype=float)\n",
    "        column = len(image[0])\n",
    "        row = len(image)\n",
    "        x = rgb2lab(1.0/255*image)[:,:,0]\n",
    "        y = rgb2lab(1.0/255*image)[:,:,1:]\n",
    "        y /= 128\n",
    "        X.append(x)\n",
    "        Y.append(y)\n",
    "        j +=1\n",
    "    return X,Y,row,column\n",
    "\n",
    "#Convert LAB channels to RGB for a list of image\n",
    "def labtorgb_batch(l,a,b):\n",
    "    rgb=[]\n",
    "    for i in range(len(l)):\n",
    "        lab=np.dstack([l[i],a[i],b[i]])\n",
    "        img=color.lab2rgb(lab)\n",
    "        rgb.append(img)\n",
    "    return rgb\n",
    "\n",
    "#Save colorized image\n",
    "def savePredict(img_list,save_path):\n",
    "    for i in range(len(img_list)):\n",
    "        plt.imsave((\"{}frame{}.jpg\").format(save_path,i),img_list[i])"
   ]
  },
  {
   "cell_type": "markdown",
   "metadata": {},
   "source": [
    "#### b. Load Pre-trained Model and Image"
   ]
  },
  {
   "cell_type": "code",
   "execution_count": 4,
   "metadata": {},
   "outputs": [],
   "source": [
    "#Load Model and weights\n",
    "def load_model(model_name):\n",
    "    json_file = open('{}.json'.format(model_name), 'r')\n",
    "    loaded_model_json = json_file.read()\n",
    "    json_file.close()\n",
    "    loaded_model = model_from_json(loaded_model_json)\n",
    "    #load weights into new model\n",
    "    loaded_model.load_weights(\"{}.h5\".format(model_name))\n",
    "    print(\"Loaded model from disk\")\n",
    "    return loaded_model\n",
    "\n",
    "#Load Image\n",
    "def load_image(image_path):\n",
    "    X,Y,row,column = rgbtolab_batch(image_path)\n",
    "    n_test=len(X)\n",
    "    # Pre-process the data by reshaping\n",
    "    X=np.array(X)\n",
    "    Y=np.array(Y)\n",
    "    X = X.reshape(n_test, row, column, 1)\n",
    "    Y = Y.reshape(n_test, row, column, 2)\n",
    "    return X,Y,row,column\n",
    "\n",
    "#Load Model and Image - Colorization\n",
    "def load_all(model_name,image_path):\n",
    "    loaded_model=load_model(model_name)\n",
    "    X,Y,row,column=load_image(image_path)\n",
    "    n_test=len(X)\n",
    "    loaded_model.compile(optimizer='rmsprop',loss='mse',metrics=['accuracy'])\n",
    "    loaded_model.evaluate(X,Y,batch_size=10)\n",
    "    Y_predict=loaded_model.predict(X)\n",
    "    Y_predict *=128\n",
    "    Y_a=Y_predict[:,:,:,0].reshape(n_test,row,column,1)\n",
    "    Y_b=Y_predict[:,:,:,1].reshape(n_test,row,column,1)\n",
    "    Y_ori_a=Y[:,:,:,0].reshape(n_test,row,column,1)*128\n",
    "    Y_ori_b=Y[:,:,:,1].reshape(n_test,row,column,1)*128\n",
    "    rgb_list=labtorgb_batch(X,Y_a,Y_b)\n",
    "    rgb_original=labtorgb_batch(X,Y_ori_a,Y_ori_b)\n",
    "    return rgb_list,rgb_original"
   ]
  },
  {
   "cell_type": "markdown",
   "metadata": {},
   "source": [
    "## 2. Colorizing Video"
   ]
  },
  {
   "cell_type": "markdown",
   "metadata": {},
   "source": [
    "### 2.1. Video Paths"
   ]
  },
  {
   "cell_type": "code",
   "execution_count": 8,
   "metadata": {},
   "outputs": [],
   "source": [
    "VIDEO=\"Roman Holiday Short thumnail.mp4\"\n",
    "bw_path = \"video/b&w_video_frames/\"\n",
    "save_path = \"video/colorized_video_frames/\"\n",
    "video_path = \"video/colorized_video/\""
   ]
  },
  {
   "cell_type": "markdown",
   "metadata": {},
   "source": [
    "### 2.2 Read video and convert to frames"
   ]
  },
  {
   "cell_type": "code",
   "execution_count": 9,
   "metadata": {},
   "outputs": [],
   "source": [
    "video =  \"video/\"+VIDEO\n",
    "width = 80\n",
    "vs = cv2.VideoCapture(video)"
   ]
  },
  {
   "cell_type": "code",
   "execution_count": null,
   "metadata": {},
   "outputs": [],
   "source": [
    "# loop over frames from the video stream\n",
    "count = 0\n",
    "success = True\n",
    "while success:\n",
    "\t# grab the next frame and handle if we are reading from either\n",
    "\t# VideoCapture or VideoStream\n",
    "\tsuccess, frame = vs.read()\n",
    "\n",
    "\t# if we are viewing a video and we did not grab a frame then we\n",
    "\t# have reached the end of the video\n",
    "\tif frame is None:\n",
    "\t\tbreak\n",
    "\n",
    "\t# resize the input frame, scale the pixel intensities to the\n",
    "\tframe = imutils.resize(frame, 80)\n",
    "\t#frame = cv2.cvtColor(frame, cv2.COLOR_BGR2GRAY)\n",
    "\t#frame = cv2.cvtColor(frame, cv2.COLOR_GRAY2RGB)\n",
    "\n",
    "\t# resize the frame to 80x60 (the dimensions of the  model\n",
    "\tresized = cv2.resize(frame, (80, 60))\n",
    "\n",
    "\t# show the original frames\n",
    "\tcv2.imshow(\"Original\", resized)\n",
    "\n",
    "    # save the black and white frames\n",
    "\tcv2.imwrite(bw_path+\"frame{}.jpg\".format(str(count)), resized)\n",
    "\tcount += 1\n",
    "\tkey = cv2.waitKey(1) & 0xFF\n",
    "\n",
    "\t# if the `q` key was pressed, break from the loop\n",
    "\tif key == ord(\"q\"):\n",
    "\t\tbreak\n",
    "\n",
    "vs.release()\n",
    "\n",
    "# close any open windows\n",
    "cv2.destroyAllWindows()"
   ]
  },
  {
   "cell_type": "markdown",
   "metadata": {},
   "source": [
    "### 2.3 Load model and colorize the video"
   ]
  },
  {
   "cell_type": "code",
   "execution_count": null,
   "metadata": {},
   "outputs": [],
   "source": [
    "# Load model on generated frames, colorize the frames and save colorized frames\n",
    "colorized, original = load_all(model_path+\"model_0215\",bw_path)\n",
    "savePredict(colorized,save_path)"
   ]
  },
  {
   "cell_type": "markdown",
   "metadata": {},
   "source": [
    "### 2.4 Combine frames to a video file"
   ]
  },
  {
   "cell_type": "code",
   "execution_count": null,
   "metadata": {},
   "outputs": [],
   "source": [
    "### a. Define function to create a video from frames\n",
    "def convert_frames_to_video(pathIn, pathOut, fps):\n",
    "    frame_array = []\n",
    "    files = [f for f in os.listdir(pathIn) if isfile(join(pathIn, f))]\n",
    "\n",
    "    #for sorting the file names properly\n",
    "    files.sort(key = lambda x: int(x[5:-4]))\n",
    " \n",
    "    for i in range(len(files)):\n",
    "        filename=pathIn + files[i]\n",
    "        #reading each files\n",
    "        img = cv2.imread(filename)\n",
    "        height, width, layers = img.shape\n",
    "        size = (width,height)\n",
    "        print(filename)\n",
    "        #inserting the frames into an image array\n",
    "        frame_array.append(img)\n",
    "\n",
    "    out = cv2.VideoWriter(pathOut,cv2.VideoWriter_fourcc(*'MJPG'), fps, size)\n",
    "\n",
    "    for i in range(len(frame_array)):\n",
    "        # writing to a image array\n",
    "        out.write(frame_array[i])\n",
    "    out.release()"
   ]
  },
  {
   "cell_type": "code",
   "execution_count": null,
   "metadata": {},
   "outputs": [],
   "source": [
    "### b. Generate the video file\n",
    "pathIn= save_path\n",
    "pathOut = video_path+'video.avi'\n",
    "fps = 30.0\n",
    "convert_frames_to_video(pathIn, pathOut, fps)\n",
    "print(\"Colorized video is saved at {}\".format(pathOut))"
   ]
  }
 ],
 "metadata": {
  "kernelspec": {
   "display_name": "Python 3",
   "language": "python",
   "name": "python3"
  },
  "language_info": {
   "codemirror_mode": {
    "name": "ipython",
    "version": 3
   },
   "file_extension": ".py",
   "mimetype": "text/x-python",
   "name": "python",
   "nbconvert_exporter": "python",
   "pygments_lexer": "ipython3",
   "version": "3.7.6"
  }
 },
 "nbformat": 4,
 "nbformat_minor": 2
}
